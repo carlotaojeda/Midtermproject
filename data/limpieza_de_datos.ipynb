{
 "cells": [
  {
   "cell_type": "code",
   "execution_count": 45,
   "id": "59379e9e",
   "metadata": {},
   "outputs": [
    {
     "data": {
      "text/plain": [
       "True"
      ]
     },
     "execution_count": 45,
     "metadata": {},
     "output_type": "execute_result"
    }
   ],
   "source": [
    "import pandas as pd\n",
    "import os \n",
    "import ast\n",
    "from dotenv import load_dotenv\n",
    "from pymongo import MongoClient\n",
    "load_dotenv()"
   ]
  },
  {
   "cell_type": "code",
   "execution_count": 8,
   "id": "497f4559",
   "metadata": {},
   "outputs": [],
   "source": [
    "client = MongoClient (os.getenv(\"URL\"))"
   ]
  },
  {
   "cell_type": "code",
   "execution_count": 9,
   "id": "62229650",
   "metadata": {},
   "outputs": [],
   "source": [
    "df = pd.read_csv(\"eurocup_2020_results.csv\")"
   ]
  },
  {
   "cell_type": "code",
   "execution_count": 10,
   "id": "c468bc1a",
   "metadata": {},
   "outputs": [
    {
     "data": {
      "text/html": [
       "<div>\n",
       "<style scoped>\n",
       "    .dataframe tbody tr th:only-of-type {\n",
       "        vertical-align: middle;\n",
       "    }\n",
       "\n",
       "    .dataframe tbody tr th {\n",
       "        vertical-align: top;\n",
       "    }\n",
       "\n",
       "    .dataframe thead th {\n",
       "        text-align: right;\n",
       "    }\n",
       "</style>\n",
       "<table border=\"1\" class=\"dataframe\">\n",
       "  <thead>\n",
       "    <tr style=\"text-align: right;\">\n",
       "      <th></th>\n",
       "      <th>stage</th>\n",
       "      <th>date</th>\n",
       "      <th>pens</th>\n",
       "      <th>pens_home_score</th>\n",
       "      <th>pens_away_score</th>\n",
       "      <th>team_name_home</th>\n",
       "      <th>team_name_away</th>\n",
       "      <th>team_home_score</th>\n",
       "      <th>team_away_score</th>\n",
       "      <th>possession_home</th>\n",
       "      <th>possession_away</th>\n",
       "      <th>total_shots_home</th>\n",
       "      <th>total_shots_away</th>\n",
       "      <th>shots_on_target_home</th>\n",
       "      <th>shots_on_target_away</th>\n",
       "      <th>duels_won_home</th>\n",
       "      <th>duels_won_away</th>\n",
       "      <th>events_list</th>\n",
       "      <th>lineup_home</th>\n",
       "      <th>lineup_away</th>\n",
       "    </tr>\n",
       "  </thead>\n",
       "  <tbody>\n",
       "    <tr>\n",
       "      <th>0</th>\n",
       "      <td>Final</td>\n",
       "      <td>11.07.2021</td>\n",
       "      <td>True</td>\n",
       "      <td>3</td>\n",
       "      <td>2</td>\n",
       "      <td>Italy</td>\n",
       "      <td>England</td>\n",
       "      <td>1</td>\n",
       "      <td>1</td>\n",
       "      <td>66%</td>\n",
       "      <td>34%</td>\n",
       "      <td>19</td>\n",
       "      <td>6</td>\n",
       "      <td>6</td>\n",
       "      <td>2</td>\n",
       "      <td>53%</td>\n",
       "      <td>47%</td>\n",
       "      <td>[{'event_team': 'away', 'event_time': \" 2' \", ...</td>\n",
       "      <td>[{'Player_Name': 'Insigne', 'Player_Number': '...</td>\n",
       "      <td>[{'Player_Name': 'Kane', 'Player_Number': '9'}...</td>\n",
       "    </tr>\n",
       "    <tr>\n",
       "      <th>1</th>\n",
       "      <td>Semi-finals</td>\n",
       "      <td>07.07.2021</td>\n",
       "      <td>False</td>\n",
       "      <td>False</td>\n",
       "      <td>False</td>\n",
       "      <td>England</td>\n",
       "      <td>Denmark</td>\n",
       "      <td>2</td>\n",
       "      <td>1</td>\n",
       "      <td>59%</td>\n",
       "      <td>41%</td>\n",
       "      <td>20</td>\n",
       "      <td>6</td>\n",
       "      <td>10</td>\n",
       "      <td>3</td>\n",
       "      <td>50%</td>\n",
       "      <td>50%</td>\n",
       "      <td>[{'event_team': 'away', 'event_time': \" 30' \",...</td>\n",
       "      <td>[{'Player_Name': 'Kane', 'Player_Number': '9'}...</td>\n",
       "      <td>[{'Player_Name': 'Krogh Damsgaard', 'Player_Nu...</td>\n",
       "    </tr>\n",
       "    <tr>\n",
       "      <th>2</th>\n",
       "      <td>Semi-finals</td>\n",
       "      <td>06.07.2021</td>\n",
       "      <td>True</td>\n",
       "      <td>4</td>\n",
       "      <td>2</td>\n",
       "      <td>Italy</td>\n",
       "      <td>Spain</td>\n",
       "      <td>1</td>\n",
       "      <td>1</td>\n",
       "      <td>29%</td>\n",
       "      <td>71%</td>\n",
       "      <td>7</td>\n",
       "      <td>16</td>\n",
       "      <td>4</td>\n",
       "      <td>5</td>\n",
       "      <td>49%</td>\n",
       "      <td>51%</td>\n",
       "      <td>[{'event_team': 'away', 'event_time': \" 51' \",...</td>\n",
       "      <td>[{'Player_Name': 'Insigne', 'Player_Number': '...</td>\n",
       "      <td>[{'Player_Name': 'Torres', 'Player_Number': '1...</td>\n",
       "    </tr>\n",
       "    <tr>\n",
       "      <th>3</th>\n",
       "      <td>Quarter-finals</td>\n",
       "      <td>03.07.2021</td>\n",
       "      <td>False</td>\n",
       "      <td>False</td>\n",
       "      <td>False</td>\n",
       "      <td>Ukraine</td>\n",
       "      <td>England</td>\n",
       "      <td>0</td>\n",
       "      <td>4</td>\n",
       "      <td>48%</td>\n",
       "      <td>52%</td>\n",
       "      <td>7</td>\n",
       "      <td>10</td>\n",
       "      <td>2</td>\n",
       "      <td>6</td>\n",
       "      <td>42%</td>\n",
       "      <td>59%</td>\n",
       "      <td>[{'event_team': 'away', 'event_time': \" 4' \", ...</td>\n",
       "      <td>[{'Player_Name': 'Yaremchuk', 'Player_Number':...</td>\n",
       "      <td>[{'Player_Name': 'Kane', 'Player_Number': '9'}...</td>\n",
       "    </tr>\n",
       "    <tr>\n",
       "      <th>4</th>\n",
       "      <td>Quarter-finals</td>\n",
       "      <td>03.07.2021</td>\n",
       "      <td>False</td>\n",
       "      <td>False</td>\n",
       "      <td>False</td>\n",
       "      <td>Czech Republic</td>\n",
       "      <td>Denmark</td>\n",
       "      <td>1</td>\n",
       "      <td>2</td>\n",
       "      <td>56%</td>\n",
       "      <td>44%</td>\n",
       "      <td>16</td>\n",
       "      <td>11</td>\n",
       "      <td>5</td>\n",
       "      <td>7</td>\n",
       "      <td>48%</td>\n",
       "      <td>52%</td>\n",
       "      <td>[{'event_team': 'away', 'event_time': \" 5' \", ...</td>\n",
       "      <td>[{'Player_Name': 'Schick', 'Player_Number': '1...</td>\n",
       "      <td>[{'Player_Name': 'Dolberg', 'Player_Number': '...</td>\n",
       "    </tr>\n",
       "  </tbody>\n",
       "</table>\n",
       "</div>"
      ],
      "text/plain": [
       "              stage          date   pens pens_home_score pens_away_score  \\\n",
       "0            Final     11.07.2021   True               3               2   \n",
       "1      Semi-finals    07.07.2021   False           False           False   \n",
       "2      Semi-finals     06.07.2021   True               4               2   \n",
       "3   Quarter-finals    03.07.2021   False           False           False   \n",
       "4   Quarter-finals    03.07.2021   False           False           False   \n",
       "\n",
       "     team_name_home team_name_away  team_home_score  team_away_score  \\\n",
       "0            Italy        England                 1                1   \n",
       "1          England        Denmark                 2                1   \n",
       "2            Italy          Spain                 1                1   \n",
       "3          Ukraine        England                 0                4   \n",
       "4   Czech Republic        Denmark                 1                2   \n",
       "\n",
       "  possession_home possession_away  total_shots_home  total_shots_away  \\\n",
       "0             66%            34%                 19                 6   \n",
       "1             59%            41%                 20                 6   \n",
       "2             29%            71%                  7                16   \n",
       "3             48%            52%                  7                10   \n",
       "4             56%            44%                 16                11   \n",
       "\n",
       "   shots_on_target_home  shots_on_target_away duels_won_home duels_won_away  \\\n",
       "0                     6                     2            53%           47%    \n",
       "1                    10                     3            50%           50%    \n",
       "2                     4                     5            49%           51%    \n",
       "3                     2                     6            42%           59%    \n",
       "4                     5                     7            48%           52%    \n",
       "\n",
       "                                         events_list  \\\n",
       "0  [{'event_team': 'away', 'event_time': \" 2' \", ...   \n",
       "1  [{'event_team': 'away', 'event_time': \" 30' \",...   \n",
       "2  [{'event_team': 'away', 'event_time': \" 51' \",...   \n",
       "3  [{'event_team': 'away', 'event_time': \" 4' \", ...   \n",
       "4  [{'event_team': 'away', 'event_time': \" 5' \", ...   \n",
       "\n",
       "                                         lineup_home  \\\n",
       "0  [{'Player_Name': 'Insigne', 'Player_Number': '...   \n",
       "1  [{'Player_Name': 'Kane', 'Player_Number': '9'}...   \n",
       "2  [{'Player_Name': 'Insigne', 'Player_Number': '...   \n",
       "3  [{'Player_Name': 'Yaremchuk', 'Player_Number':...   \n",
       "4  [{'Player_Name': 'Schick', 'Player_Number': '1...   \n",
       "\n",
       "                                         lineup_away  \n",
       "0  [{'Player_Name': 'Kane', 'Player_Number': '9'}...  \n",
       "1  [{'Player_Name': 'Krogh Damsgaard', 'Player_Nu...  \n",
       "2  [{'Player_Name': 'Torres', 'Player_Number': '1...  \n",
       "3  [{'Player_Name': 'Kane', 'Player_Number': '9'}...  \n",
       "4  [{'Player_Name': 'Dolberg', 'Player_Number': '...  "
      ]
     },
     "execution_count": 10,
     "metadata": {},
     "output_type": "execute_result"
    }
   ],
   "source": [
    "df.head()"
   ]
  },
  {
   "cell_type": "code",
   "execution_count": 17,
   "id": "f9e71b6f",
   "metadata": {},
   "outputs": [
    {
     "data": {
      "text/plain": [
       "2"
      ]
     },
     "execution_count": 17,
     "metadata": {},
     "output_type": "execute_result"
    }
   ],
   "source": [
    "(df[\"team_home_score\"][1])"
   ]
  },
  {
   "cell_type": "code",
   "execution_count": 22,
   "id": "6bc10031",
   "metadata": {},
   "outputs": [
    {
     "data": {
      "text/plain": [
       "'False'"
      ]
     },
     "execution_count": 22,
     "metadata": {},
     "output_type": "execute_result"
    }
   ],
   "source": [
    "(df[\"pens_home_score\"][1])"
   ]
  },
  {
   "cell_type": "code",
   "execution_count": 23,
   "id": "04a0b7bc",
   "metadata": {},
   "outputs": [
    {
     "data": {
      "text/plain": [
       "' England '"
      ]
     },
     "execution_count": 23,
     "metadata": {},
     "output_type": "execute_result"
    }
   ],
   "source": [
    "(df[\"team_name_home\"][1])"
   ]
  },
  {
   "cell_type": "code",
   "execution_count": 25,
   "id": "1fc8ea72",
   "metadata": {},
   "outputs": [
    {
     "data": {
      "text/plain": [
       "'England'"
      ]
     },
     "execution_count": 25,
     "metadata": {},
     "output_type": "execute_result"
    }
   ],
   "source": [
    "(df[\"team_name_home\"][1]).strip()"
   ]
  },
  {
   "cell_type": "code",
   "execution_count": 29,
   "id": "88c03098",
   "metadata": {},
   "outputs": [
    {
     "data": {
      "text/plain": [
       "str"
      ]
     },
     "execution_count": 29,
     "metadata": {},
     "output_type": "execute_result"
    }
   ],
   "source": [
    "type(df[\"possession_away\"][1])"
   ]
  },
  {
   "cell_type": "code",
   "execution_count": 30,
   "id": "b5be7221",
   "metadata": {},
   "outputs": [
    {
     "data": {
      "text/plain": [
       "' 41% '"
      ]
     },
     "execution_count": 30,
     "metadata": {},
     "output_type": "execute_result"
    }
   ],
   "source": [
    "(df[\"possession_away\"][1])"
   ]
  },
  {
   "cell_type": "code",
   "execution_count": 35,
   "id": "dada8133",
   "metadata": {},
   "outputs": [
    {
     "data": {
      "text/plain": [
       "41"
      ]
     },
     "execution_count": 35,
     "metadata": {},
     "output_type": "execute_result"
    }
   ],
   "source": [
    "int(df[\"possession_away\"][1].split(\"%\")[0])"
   ]
  },
  {
   "cell_type": "code",
   "execution_count": 44,
   "id": "8a50643d",
   "metadata": {},
   "outputs": [
    {
     "data": {
      "text/plain": [
       "'[{\\'event_team\\': \\'away\\', \\'event_time\\': \" 30\\' \", \\'event_type\\': \\'Goal\\', \\'action_player_1\\': \\' Mikkel Damsgaard \\'}, {\\'event_team\\': \\'home\\', \\'event_time\\': \" 39\\' \", \\'event_type\\': \\'Own goal\\', \\'action_player_1\\': \\' Simon Kjaer \\', \\'action_player_2\\': \\' Own goal \\'}, {\\'event_team\\': \\'home\\', \\'event_time\\': \" 49\\' \", \\'event_type\\': \\'Yellow card\\', \\'action_player_1\\': \\' Harry Maguire \\'}, {\\'event_team\\': \\'away\\', \\'event_time\\': \" 67\\' \", \\'event_type\\': \\'Substitution\\', \\'action_player_1\\': \\' Daniel Wass \\', \\'action_player_2\\': \\' Jens Stryger Larsen \\'}, {\\'event_team\\': \\'away\\', \\'event_time\\': \" 67\\' \", \\'event_type\\': \\'Substitution\\', \\'action_player_1\\': \\' Yussuf Poulsen \\', \\'action_player_2\\': \\' Mikkel Damsgaard \\'}, {\\'event_team\\': \\'away\\', \\'event_time\\': \" 67\\' \", \\'event_type\\': \\'Substitution\\', \\'action_player_1\\': \\' Christian Nørgaard \\', \\'action_player_2\\': \\' Kasper Dolberg \\'}, {\\'event_team\\': \\'home\\', \\'event_time\\': \" 69\\' \", \\'event_type\\': \\'Substitution\\', \\'action_player_1\\': \\' Jack Grealish \\', \\'action_player_2\\': \\' Bukayo Saka \\'}, {\\'event_team\\': \\'away\\', \\'event_time\\': \" 72\\' \", \\'event_type\\': \\'Yellow card\\', \\'action_player_1\\': \\' Daniel Wass \\'}, {\\'event_team\\': \\'away\\', \\'event_time\\': \" 79\\' \", \\'event_type\\': \\'Substitution\\', \\'action_player_1\\': \\' Joachim Andersen \\', \\'action_player_2\\': \\' Andreas Christensen \\'}, {\\'event_team\\': \\'away\\', \\'event_time\\': \" 88\\' \", \\'event_type\\': \\'Substitution\\', \\'action_player_1\\': \\' Mathias Jensen \\', \\'action_player_2\\': \\' Thomas Delaney \\'}, {\\'event_team\\': \\'home\\', \\'event_time\\': \" 95\\' \", \\'event_type\\': \\'Substitution\\', \\'action_player_1\\': \\' Jordan Henderson \\', \\'action_player_2\\': \\' Declan Rice \\'}, {\\'event_team\\': \\'home\\', \\'event_time\\': \" 95\\' \", \\'event_type\\': \\'Substitution\\', \\'action_player_1\\': \\' Philip Foden \\', \\'action_player_2\\': \\' Mason Mount \\'}, {\\'event_team\\': \\'home\\', \\'event_time\\': \" 104\\' \", \\'event_type\\': \\'Goal\\', \\'action_player_1\\': \\' Harry Kane \\'}, {\\'event_team\\': \\'away\\', \\'event_time\\': \" 105\\' \", \\'event_type\\': \\'Substitution\\', \\'action_player_1\\': \\' Jonas Wind \\', \\'action_player_2\\': \\' Jannik Vestergaard \\'}, {\\'event_team\\': \\'home\\', \\'event_time\\': \" 105\\' \", \\'event_type\\': \\'Substitution\\', \\'action_player_1\\': \\' Kieran Trippier \\', \\'action_player_2\\': \\' Jack Grealish \\'}]'"
      ]
     },
     "execution_count": 44,
     "metadata": {},
     "output_type": "execute_result"
    }
   ],
   "source": [
    "(df[\"events_list\"][1])"
   ]
  },
  {
   "cell_type": "code",
   "execution_count": 46,
   "id": "795fbe6e",
   "metadata": {},
   "outputs": [
    {
     "data": {
      "text/plain": [
       "[{'event_team': 'away',\n",
       "  'event_time': \" 30' \",\n",
       "  'event_type': 'Goal',\n",
       "  'action_player_1': ' Mikkel Damsgaard '},\n",
       " {'event_team': 'home',\n",
       "  'event_time': \" 39' \",\n",
       "  'event_type': 'Own goal',\n",
       "  'action_player_1': ' Simon Kjaer ',\n",
       "  'action_player_2': ' Own goal '},\n",
       " {'event_team': 'home',\n",
       "  'event_time': \" 49' \",\n",
       "  'event_type': 'Yellow card',\n",
       "  'action_player_1': ' Harry Maguire '},\n",
       " {'event_team': 'away',\n",
       "  'event_time': \" 67' \",\n",
       "  'event_type': 'Substitution',\n",
       "  'action_player_1': ' Daniel Wass ',\n",
       "  'action_player_2': ' Jens Stryger Larsen '},\n",
       " {'event_team': 'away',\n",
       "  'event_time': \" 67' \",\n",
       "  'event_type': 'Substitution',\n",
       "  'action_player_1': ' Yussuf Poulsen ',\n",
       "  'action_player_2': ' Mikkel Damsgaard '},\n",
       " {'event_team': 'away',\n",
       "  'event_time': \" 67' \",\n",
       "  'event_type': 'Substitution',\n",
       "  'action_player_1': ' Christian Nørgaard ',\n",
       "  'action_player_2': ' Kasper Dolberg '},\n",
       " {'event_team': 'home',\n",
       "  'event_time': \" 69' \",\n",
       "  'event_type': 'Substitution',\n",
       "  'action_player_1': ' Jack Grealish ',\n",
       "  'action_player_2': ' Bukayo Saka '},\n",
       " {'event_team': 'away',\n",
       "  'event_time': \" 72' \",\n",
       "  'event_type': 'Yellow card',\n",
       "  'action_player_1': ' Daniel Wass '},\n",
       " {'event_team': 'away',\n",
       "  'event_time': \" 79' \",\n",
       "  'event_type': 'Substitution',\n",
       "  'action_player_1': ' Joachim Andersen ',\n",
       "  'action_player_2': ' Andreas Christensen '},\n",
       " {'event_team': 'away',\n",
       "  'event_time': \" 88' \",\n",
       "  'event_type': 'Substitution',\n",
       "  'action_player_1': ' Mathias Jensen ',\n",
       "  'action_player_2': ' Thomas Delaney '},\n",
       " {'event_team': 'home',\n",
       "  'event_time': \" 95' \",\n",
       "  'event_type': 'Substitution',\n",
       "  'action_player_1': ' Jordan Henderson ',\n",
       "  'action_player_2': ' Declan Rice '},\n",
       " {'event_team': 'home',\n",
       "  'event_time': \" 95' \",\n",
       "  'event_type': 'Substitution',\n",
       "  'action_player_1': ' Philip Foden ',\n",
       "  'action_player_2': ' Mason Mount '},\n",
       " {'event_team': 'home',\n",
       "  'event_time': \" 104' \",\n",
       "  'event_type': 'Goal',\n",
       "  'action_player_1': ' Harry Kane '},\n",
       " {'event_team': 'away',\n",
       "  'event_time': \" 105' \",\n",
       "  'event_type': 'Substitution',\n",
       "  'action_player_1': ' Jonas Wind ',\n",
       "  'action_player_2': ' Jannik Vestergaard '},\n",
       " {'event_team': 'home',\n",
       "  'event_time': \" 105' \",\n",
       "  'event_type': 'Substitution',\n",
       "  'action_player_1': ' Kieran Trippier ',\n",
       "  'action_player_2': ' Jack Grealish '}]"
      ]
     },
     "execution_count": 46,
     "metadata": {},
     "output_type": "execute_result"
    }
   ],
   "source": [
    "ast.literal_eval(df[\"events_list\"][1])"
   ]
  },
  {
   "cell_type": "code",
   "execution_count": 36,
   "id": "78639664",
   "metadata": {},
   "outputs": [],
   "source": [
    "def limpieza_pens(penaltis):\n",
    "    if penaltis == \"False\":\n",
    "        return False\n",
    "    else: \n",
    "        return int(penaltis)\n",
    "    "
   ]
  },
  {
   "cell_type": "code",
   "execution_count": 37,
   "id": "530cba6d",
   "metadata": {},
   "outputs": [],
   "source": [
    "def limpieza_teams(nombres):\n",
    "    return nombres.strip()"
   ]
  },
  {
   "cell_type": "code",
   "execution_count": 38,
   "id": "23f0daee",
   "metadata": {},
   "outputs": [],
   "source": [
    "def limpieza_possession (posesion):\n",
    "    return int(posesion.split(\"%\")[0])"
   ]
  },
  {
   "cell_type": "code",
   "execution_count": 47,
   "id": "ca2aea0d",
   "metadata": {},
   "outputs": [],
   "source": [
    "def limpieza_eventlist (events):\n",
    "    try: \n",
    "        return ast.literal_eval(events)\n",
    "    except:\n",
    "        False"
   ]
  },
  {
   "cell_type": "code",
   "execution_count": 40,
   "id": "f5c901bf",
   "metadata": {},
   "outputs": [
    {
     "data": {
      "text/plain": [
       "3"
      ]
     },
     "execution_count": 40,
     "metadata": {},
     "output_type": "execute_result"
    }
   ],
   "source": [
    "limpieza_pens(\"3\")"
   ]
  },
  {
   "cell_type": "code",
   "execution_count": 41,
   "id": "ba741d03",
   "metadata": {},
   "outputs": [
    {
     "data": {
      "text/plain": [
       "'England'"
      ]
     },
     "execution_count": 41,
     "metadata": {},
     "output_type": "execute_result"
    }
   ],
   "source": [
    "limpieza_teams(\" England \")"
   ]
  },
  {
   "cell_type": "code",
   "execution_count": 42,
   "id": "d129bd7a",
   "metadata": {},
   "outputs": [
    {
     "data": {
      "text/plain": [
       "43"
      ]
     },
     "execution_count": 42,
     "metadata": {},
     "output_type": "execute_result"
    }
   ],
   "source": [
    "limpieza_possession (\"43%\")"
   ]
  },
  {
   "cell_type": "code",
   "execution_count": null,
   "id": "529271e6",
   "metadata": {},
   "outputs": [],
   "source": [
    "def events_list ()"
   ]
  }
 ],
 "metadata": {
  "kernelspec": {
   "display_name": "Python 3 (ipykernel)",
   "language": "python",
   "name": "python3"
  },
  "language_info": {
   "codemirror_mode": {
    "name": "ipython",
    "version": 3
   },
   "file_extension": ".py",
   "mimetype": "text/x-python",
   "name": "python",
   "nbconvert_exporter": "python",
   "pygments_lexer": "ipython3",
   "version": "3.9.15"
  }
 },
 "nbformat": 4,
 "nbformat_minor": 5
}
